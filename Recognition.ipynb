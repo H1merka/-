{
 "cells": [
  {
   "cell_type": "code",
   "execution_count": 2,
   "id": "7aabc343-3b9a-4bee-83f9-d95ce9f4610b",
   "metadata": {},
   "outputs": [
    {
     "name": "stdout",
     "output_type": "stream",
     "text": [
      "Processing c:\\users\\dimal\\pycharmprojects\\pythonproject\\dlib-19.24.1-cp311-cp311-win_amd64.whl\n",
      "Installing collected packages: dlib\n",
      "Successfully installed dlib-19.24.1\n"
     ]
    },
    {
     "name": "stderr",
     "output_type": "stream",
     "text": [
      "\n",
      "[notice] A new release of pip is available: 23.2.1 -> 24.0\n",
      "[notice] To update, run: python.exe -m pip install --upgrade pip\n"
     ]
    }
   ],
   "source": [
    "!python -m pip install dlib-19.24.1-cp311-cp311-win_amd64.whl"
   ]
  },
  {
   "cell_type": "code",
   "execution_count": 8,
   "id": "9e3a0460-1152-41f3-9511-1ab56d20c244",
   "metadata": {},
   "outputs": [],
   "source": [
    "import dlib\n",
    "import face_recognition as fr\n",
    "from PIL import Image\n",
    "import cv2\n",
    "import numpy as np"
   ]
  },
  {
   "cell_type": "code",
   "execution_count": 9,
   "id": "59620133-128a-497b-8ea8-68d3ddcc5506",
   "metadata": {
    "editable": true,
    "slideshow": {
     "slide_type": ""
    },
    "tags": []
   },
   "outputs": [],
   "source": [
    "class Photo:\n",
    "    def __init__(self, img_path: str): #img_path - путь к файлу\n",
    "        self.img = cv2.imread(img_path)\n",
    "        self.pil_img = Image.open(img_path)\n",
    "        self.size = self.pil_img.size\n",
    "\n",
    "    def find_face(self, min_size=(30, 30), draw_rects=False):\n",
    "        '''\n",
    "        Метод нахождения лиц на фото.\n",
    "        min_res - минимальное разрешение лица\n",
    "        Возвращает класс rectangles.\n",
    "        '''\n",
    "        img_gray = cv2.cvtColor(self.img, cv2.COLOR_BGR2GRAY)\n",
    "        detector = dlib.get_frontal_face_detector()\n",
    "        faces = detector(img_gray)\n",
    "        Photo.check_size(faces, min_size)\n",
    "        if draw_rects == True:\n",
    "            Photo.draw_rects(self.img, faces)\n",
    "        return faces\n",
    "\n",
    "    @staticmethod\n",
    "    def draw_rects(img, detection):\n",
    "        '''\n",
    "        Метод рисования прямоугольников вокруг лиц.\n",
    "        img - изначальное фото\n",
    "        detection - результат работы find_face()\n",
    "        '''\n",
    "        for face in detection:\n",
    "            cv2.rectangle(img, (face.left(), face.top()), (face.right(), face.bottom()), (0, 0, 255), 2)\n",
    "\n",
    "    def show_img(self, name: str, scale=None):\n",
    "        new_img = self.img\n",
    "        if scale is not None:\n",
    "            new_img = cv2.resize(new_img, (int(self.size[0] * scale), int(self.size[1] * scale)))\n",
    "        cv2.imshow(name, new_img)\n",
    "        cv2.waitKey()\n",
    "\n",
    "    @staticmethod\n",
    "    def check_size(detection, size: tuple):\n",
    "        filtered_faces = []\n",
    "        for face in detection:\n",
    "            if (face.right() - face.left()) >= size[0] or (face.bottom() - face.top()) >= size[1]:\n",
    "                filtered_faces.append(face)\n",
    "        return filtered_faces\n",
    "\n",
    "    def photos(self, detection) -> tuple:\n",
    "        return tuple([self.img[face.top():face.bottom(), face.left():face.right()] for face in detection])\n",
    "\n",
    "        "
   ]
  },
  {
   "cell_type": "code",
   "execution_count": 18,
   "id": "4dac4f65-d97c-4946-a043-918e2e885553",
   "metadata": {},
   "outputs": [],
   "source": [
    "class EncodingCreationError(Exception):\n",
    "    def __init__(self, message=\"Failed to create encoding\"):\n",
    "        self.message = message\n",
    "        super().__init__(self.message)\n",
    "\n",
    "\n",
    "class Comparison:\n",
    "    @staticmethod\n",
    "    def faces_compare(image_array_1, image_array_2, jitters=30) -> float:\n",
    "        # Загрузка изображений и получение кодировок лиц\n",
    "        image_1 = np.array(image_array_1)\n",
    "        image_2 = np.array(image_array_2)\n",
    "\n",
    "        # Получение кодировок лиц с изображений\n",
    "        encoding_1 = fr.face_encodings(image_1, num_jitters=jitters, model='large')\n",
    "        encoding_2 = fr.face_encodings(image_2, num_jitters=jitters, model='large')\n",
    "\n",
    "        if len(encoding_1) == 0 or len(encoding_2) == 0:\n",
    "            # Если лица не найдены на одном из изображений\n",
    "            raise EncodingCreationError\n",
    "\n",
    "        # Берем первое найденное лицо на каждом изображении\n",
    "        face_encoding_1 = encoding_1[0]\n",
    "        face_encoding_2 = encoding_2[0]\n",
    "\n",
    "        # Сравнение лиц\n",
    "        face_distance = fr.face_distance([face_encoding_1], face_encoding_2)\n",
    "\n",
    "        # Преобразуем расстояние в меру схожести от 0 до 1\n",
    "        similarity = 1 - face_distance[0]  # Чем меньше расстояние, тем ближе к 1, т.е. 0 - наименьшая степень схожести, 1 - наибольшая степень схожести\n",
    "\n",
    "        return similarity"
   ]
  },
  {
   "cell_type": "code",
   "execution_count": 19,
   "id": "807eb675-4611-4c1a-a779-a394fb7496de",
   "metadata": {},
   "outputs": [
    {
     "data": {
      "text/plain": [
       "0.3851158142090636"
      ]
     },
     "execution_count": 19,
     "metadata": {},
     "output_type": "execute_result"
    }
   ],
   "source": [
    "photo = Photo('project_staff/faces_2.jpg')\n",
    "faces = photo.photos(photo.find_face())\n",
    "Comparison.faces_compare(faces[0], faces[1], 50)"
   ]
  },
  {
   "cell_type": "code",
   "execution_count": null,
   "id": "27cc425e-fb8d-42d3-ac76-036f47c17150",
   "metadata": {},
   "outputs": [],
   "source": [
    "0.38201283949330533"
   ]
  }
 ],
 "metadata": {
  "kernelspec": {
   "display_name": "Python 3 (ipykernel)",
   "language": "python",
   "name": "python3"
  },
  "language_info": {
   "codemirror_mode": {
    "name": "ipython",
    "version": 3
   },
   "file_extension": ".py",
   "mimetype": "text/x-python",
   "name": "python",
   "nbconvert_exporter": "python",
   "pygments_lexer": "ipython3",
   "version": "3.11.7"
  }
 },
 "nbformat": 4,
 "nbformat_minor": 5
}

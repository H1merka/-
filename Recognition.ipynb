{
 "cells": [
  {
   "cell_type": "code",
   "execution_count": 2,
   "id": "7aabc343-3b9a-4bee-83f9-d95ce9f4610b",
   "metadata": {},
   "outputs": [
    {
     "name": "stdout",
     "output_type": "stream",
     "text": [
      "Processing c:\\users\\dimal\\pycharmprojects\\pythonproject\\dlib-19.24.1-cp311-cp311-win_amd64.whl\n",
      "Installing collected packages: dlib\n",
      "Successfully installed dlib-19.24.1\n"
     ]
    },
    {
     "name": "stderr",
     "output_type": "stream",
     "text": [
      "\n",
      "[notice] A new release of pip is available: 23.2.1 -> 24.0\n",
      "[notice] To update, run: python.exe -m pip install --upgrade pip\n"
     ]
    }
   ],
   "source": [
    "!python -m pip install dlib-19.24.1-cp311-cp311-win_amd64.whl"
   ]
  },
  {
   "cell_type": "code",
   "execution_count": 1,
   "id": "9e3a0460-1152-41f3-9511-1ab56d20c244",
   "metadata": {},
   "outputs": [],
   "source": [
    "import dlib\n",
    "from PIL import Image\n",
    "import cv2\n",
    "import numpy as np"
   ]
  },
  {
   "cell_type": "code",
   "execution_count": 2,
   "id": "59620133-128a-497b-8ea8-68d3ddcc5506",
   "metadata": {
    "editable": true,
    "slideshow": {
     "slide_type": ""
    },
    "tags": []
   },
   "outputs": [],
   "source": [
    "class Photo:\n",
    "    def __init__(self, img_path: str): #img_path - путь к файлу\n",
    "        self.img = cv2.imread(img_path)\n",
    "        self.pil_img = Image.open(img_path)\n",
    "        self.size = self.pil_img.size\n",
    "\n",
    "    def find_face(self, min_size=(30, 30), draw_rects=False):\n",
    "        '''\n",
    "        Метод нахождения лиц на фото.\n",
    "        min_res - минимальное разрешение лица\n",
    "        Возвращает класс rectangles.\n",
    "        '''\n",
    "        img_gray = cv2.cvtColor(self.img, cv2.COLOR_BGR2GRAY)\n",
    "        detector = dlib.get_frontal_face_detector()\n",
    "        faces = detector(img_gray)\n",
    "        Photo.check_size(faces, min_size)\n",
    "        if draw_rects == True:\n",
    "            Photo.draw_rects(self.img, faces)\n",
    "        return faces\n",
    "\n",
    "    @staticmethod\n",
    "    def draw_rects(img, detection):\n",
    "        '''\n",
    "        Метод рисования прямоугольников вокруг лиц.\n",
    "        img - изначальное фото\n",
    "        detection - результат работы find_face()\n",
    "        '''\n",
    "        for face in detection:\n",
    "            cv2.rectangle(img, (face.left(), face.top()), (face.right(), face.bottom()), (0, 0, 255), 2)\n",
    "\n",
    "    def show_img(self, name: str, scale=None):\n",
    "        new_img = self.img\n",
    "        if scale is not None:\n",
    "            new_img = cv2.resize(new_img, (int(self.size[0] * scale), int(self.size[1] * scale)))\n",
    "        cv2.imshow(name, new_img)\n",
    "        cv2.waitKey()\n",
    "\n",
    "    @staticmethod\n",
    "    def check_size(detection, size: tuple):\n",
    "        filtered_faces = []\n",
    "        for face in detection:\n",
    "            if (face.right() - face.left()) >= size[0] or (face.bottom() - face.top()) >= size[1]:\n",
    "                filtered_faces.append(face)\n",
    "        return filtered_faces\n",
    "\n",
    "    def photos(self, detection) -> tuple:\n",
    "        return tuple([self.img[face.top():face.bottom(), face.left():face.right()] for face in detection])\n",
    "\n",
    "        "
   ]
  },
  {
   "cell_type": "code",
   "execution_count": 6,
   "id": "807eb675-4611-4c1a-a779-a394fb7496de",
   "metadata": {},
   "outputs": [],
   "source": [
    "photo = Photo('project_staff/faces_2.jpg')\n",
    "faces = photo.find_face(min_size=(120, 120))\n",
    "photo"
   ]
  },
  {
   "cell_type": "code",
   "execution_count": null,
   "id": "99efefa4-8067-464a-a68e-f0524c247d2d",
   "metadata": {},
   "outputs": [],
   "source": [
    "photo = Photo('project_staff/faces_2.jpg')"
   ]
  }
 ],
 "metadata": {
  "kernelspec": {
   "display_name": "Python 3 (ipykernel)",
   "language": "python",
   "name": "python3"
  },
  "language_info": {
   "codemirror_mode": {
    "name": "ipython",
    "version": 3
   },
   "file_extension": ".py",
   "mimetype": "text/x-python",
   "name": "python",
   "nbconvert_exporter": "python",
   "pygments_lexer": "ipython3",
   "version": "3.11.7"
  }
 },
 "nbformat": 4,
 "nbformat_minor": 5
}
